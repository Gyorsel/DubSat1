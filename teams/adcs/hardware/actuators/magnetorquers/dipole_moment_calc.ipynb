{
 "cells": [
  {
   "cell_type": "markdown",
   "metadata": {},
   "source": [
    "# Constants:"
   ]
  },
  {
   "cell_type": "code",
   "execution_count": 2,
   "metadata": {},
   "outputs": [],
   "source": [
    "import warnings\n",
    "warnings.simplefilter('ignore')\n",
    "\n",
    "%display latex\n",
    "\n",
    "mt_voltage = 4\n",
    "mt_max_current = 0.050\n",
    "\n",
    "# https://en.wikipedia.org/wiki/American_wire_gauge\n",
    "ohms_per_meter_32_AWG = 0.5383\n",
    "ohms_per_meter_39_AWG = 2.729"
   ]
  },
  {
   "cell_type": "markdown",
   "metadata": {},
   "source": [
    "# Aircore calculations:\n",
    "\n",
    "All outputs in A m<sup>2</sup>"
   ]
  },
  {
   "cell_type": "code",
   "execution_count": 9,
   "metadata": {},
   "outputs": [
    {
     "data": {
      "text/html": [
       "<html><script type=\"math/tex; mode=display\">\\newcommand{\\Bold}[1]{\\mathbf{#1}}0.10829</script></html>"
      ],
      "text/plain": [
       "0.10829"
      ]
     },
     "execution_count": 9,
     "metadata": {},
     "output_type": "execute_result"
    }
   ],
   "source": [
    "l, w, N = var( 'l w N' )\n",
    "\n",
    "# the length and width are positive, and the number of turns is greater than 1.\n",
    "# Helps with symbolic optimization and debugging.\n",
    "assume( l > 0 )\n",
    "assume( w > 0 )\n",
    "assume( N >= 1 )\n",
    "\n",
    "# the current is the minimum between Ohm's law on 32 AWG wire and the max output of 50 mA\n",
    "I( l, w, N ) = min_symbolic( ( mt_voltage / ( ( 2 * l + 2 * w ) * N * ohms_per_meter_32_AWG ) ), mt_max_current )\n",
    "\n",
    "# Basically, the dipole moment of the aircore is mu = NIA\n",
    "dipole_aircore( l, w, N ) = N * I(l, w, N) * (l * w)\n",
    "\n",
    "# Using roughly our known parameters and assuming the magnetorquer as square:\n",
    "dipole_aircore(\n",
    "    l=0.055,\n",
    "    w=0.062,\n",
    "    N=820 ).n(20)"
   ]
  },
  {
   "cell_type": "markdown",
   "metadata": {},
   "source": [
    "# Ferrocore Calculations:"
   ]
  },
  {
   "cell_type": "code",
   "execution_count": 7,
   "metadata": {},
   "outputs": [
    {
     "data": {
      "text/html": [
       "<html><script type=\"math/tex; mode=display\">\\newcommand{\\Bold}[1]{\\mathbf{#1}}0.096256</script></html>"
      ],
      "text/plain": [
       "0.096256"
      ]
     },
     "execution_count": 7,
     "metadata": {},
     "output_type": "execute_result"
    }
   ],
   "source": [
    "l, r, N = var( 'l r N' )\n",
    "u_r = var( 'u_r', latex_name=\"\\mu_r\" ) \n",
    "N_d = var( 'N_d', latex_name=\"N_d\" )\n",
    "\n",
    "# again, the length and radius are greater than 0 and the number of turns is more than 1\n",
    "assume( l > 0 )\n",
    "assume( r > 0 )\n",
    "assume( N >= 1 )\n",
    "\n",
    "# Demagnetization and amplification formulae used from:\n",
    "# http://www.aerospades.com/uploads/3/7/3/2/37325123/cadre_torquers.pdf\n",
    "demagnetization( l, r ) = 4 * ( ln( l / r ) - r ) / ( ( l / r )^2 - 4 * ln( l / r ) )\n",
    "\n",
    "amplification( r, l, u_r ) = 1 + ( u_r - 1 ) / ( 1 + ( u_r - 1 ) * demagnetization( l, r ) )\n",
    "\n",
    "# Current is the minimum of the resistance of the wire and the max current\n",
    "current_ferrocore( r, N ) = min_symbolic( mt_voltage / ( 2 * pi * r * N / ohms_per_meter_39_AWG ), mt_max_current )\n",
    "\n",
    "# u_r = 15000\n",
    "# http://www.edfagan.com/hiperco-50-coil.php\n",
    "\n",
    "dipole_ferrocore( r, l, N, u_r ) = pi * r^2 * N * current_ferrocore( N, r ) * amplification( r, l, u_r )\n",
    "dipole_ferrocore( \n",
    "    r=0.0035, \n",
    "    l=0.070, \n",
    "    N=1500,\n",
    "    u_r=15000 ).n(20)"
   ]
  },
  {
   "cell_type": "code",
   "execution_count": null,
   "metadata": {
    "collapsed": true
   },
   "outputs": [],
   "source": []
  }
 ],
 "metadata": {
  "kernelspec": {
   "display_name": "SageMath 7.6",
   "language": "",
   "name": "sagemath"
  },
  "language_info": {
   "codemirror_mode": {
    "name": "ipython",
    "version": 2
   },
   "file_extension": ".py",
   "mimetype": "text/x-python",
   "name": "python",
   "nbconvert_exporter": "python",
   "pygments_lexer": "ipython2",
   "version": "2.7.13"
  }
 },
 "nbformat": 4,
 "nbformat_minor": 2
}
