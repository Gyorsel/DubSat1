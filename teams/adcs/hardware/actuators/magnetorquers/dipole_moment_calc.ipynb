{
 "cells": [
  {
   "cell_type": "markdown",
   "metadata": {},
   "source": [
    "# Constants:"
   ]
  },
  {
   "cell_type": "code",
   "execution_count": 1,
   "metadata": {},
   "outputs": [],
   "source": [
    "import warnings\n",
    "from sage.symbolic.units import convert\n",
    "from IPython.display import display\n",
    "warnings.simplefilter('ignore')\n",
    "\n",
    "%display latex\n",
    "\n",
    "# declare units\n",
    "V = units.electric_potential.volt\n",
    "A = units.current.amp\n",
    "ohm = units.resistance.ohm\n",
    "m = units.length.meter\n",
    "mm = units.length.millimeter\n",
    "\n",
    "mt_voltage = 4 * V\n",
    "\n",
    "# https://en.wikipedia.org/wiki/American_wire_gauge\n",
    "resistivity_32_AWG = 0.5383 * ohm / m\n",
    "resistivity_39_AWG = 2.729 * ohm / m"
   ]
  },
  {
   "cell_type": "markdown",
   "metadata": {},
   "source": [
    "# Ferrocore Calculations:"
   ]
  },
  {
   "cell_type": "code",
   "execution_count": 2,
   "metadata": {},
   "outputs": [],
   "source": [
    "l, r, N = var( 'l r N' )\n",
    "u_r = var( 'u_r', latex_name=\"\\mu_r\" ) \n",
    "N_d = var( 'N_d', latex_name=\"N_d\" )\n",
    "\n",
    "ferrocore_turns = 1500\n",
    "ferrocore_radius = 3.1 * mm\n",
    "ferrocore_length = 70 * mm\n",
    "\n",
    "# the length and radius are greater than 0 and the number of turns is more than 1\n",
    "assume( l > 0 )\n",
    "assume( r > 0 )\n",
    "assume( N >= 1 )\n",
    "\n",
    "# Demagnetization and amplification formulae used from:\n",
    "# http://www.aerospades.com/uploads/3/7/3/2/37325123/cadre_torquers.pdf\n",
    "demagnetization( l, r ) = 4 * ( ln( l / r ) - 1 ) / ( ( l / r )^2 - 4 * ln( l / r ) )\n",
    "\n",
    "amplification( r, l, u_r ) = 1 + ( u_r - 1 ) / ( 1 + ( u_r - 1 ) * demagnetization( l, r ) )\n",
    "\n",
    "current_ferrocore( r, N ) = mt_voltage / ( 2 * pi * r * N * resistivity_39_AWG )\n",
    "\n",
    "dipole_ferrocore( r, l, N, u_r ) = pi * r^2 * N * current_ferrocore( N, r ) * amplification( r, l, u_r )"
   ]
  },
  {
   "cell_type": "markdown",
   "metadata": {},
   "source": [
    "### Ferrocore current at standard parameters:"
   ]
  },
  {
   "cell_type": "code",
   "execution_count": 3,
   "metadata": {},
   "outputs": [
    {
     "data": {
      "text/html": [
       "<html><script type=\"math/tex; mode=display\">\\newcommand{\\Bold}[1]{\\mathbf{#1}}0.050167636 \\, \\mathit{amp}</script></html>"
      ],
      "text/plain": [
       "0.050167636*amp"
      ]
     },
     "execution_count": 3,
     "metadata": {},
     "output_type": "execute_result"
    }
   ],
   "source": [
    "(current_ferrocore(\n",
    "    r=ferrocore_radius,\n",
    "    N=ferrocore_turns ).convert( A ) / A).n(30) * A"
   ]
  },
  {
   "cell_type": "markdown",
   "metadata": {},
   "source": [
    "### Ferrocore dipole at standard parameters:"
   ]
  },
  {
   "cell_type": "code",
   "execution_count": 4,
   "metadata": {},
   "outputs": [
    {
     "data": {
      "text/html": [
       "<html><script type=\"math/tex; mode=display\">\\newcommand{\\Bold}[1]{\\mathbf{#1}}0.135198381808878 \\, \\left(\\mathit{amp} \\mathit{meter}^{2}\\right)</script></html>"
      ],
      "text/plain": [
       "0.135198381808878*(amp*meter^2)"
      ]
     },
     "execution_count": 4,
     "metadata": {},
     "output_type": "execute_result"
    }
   ],
   "source": [
    "# u_r = 15000\n",
    "# http://www.edfagan.com/hiperco-50-coil.php\n",
    "\n",
    "dipole_ferrocore( \n",
    "    r=ferrocore_radius,\n",
    "    l=ferrocore_length, \n",
    "    N=ferrocore_turns,\n",
    "    u_r=15000 ).convert( A * m^2 )"
   ]
  },
  {
   "cell_type": "markdown",
   "metadata": {},
   "source": [
    "# Aircore calculations:\n",
    "\n",
    "All outputs in A m<sup>2</sup>"
   ]
  },
  {
   "cell_type": "code",
   "execution_count": 5,
   "metadata": {},
   "outputs": [],
   "source": [
    "l, w, N = var( 'l w N' )\n",
    "\n",
    "# the length and width are positive, and the number of turns is greater than 1.\n",
    "# Helps with symbolic optimization and debugging.\n",
    "assume( l > 0 )\n",
    "assume( w > 0 )\n",
    "assume( N >= 1 )\n",
    "\n",
    "aircore_length = 55*mm\n",
    "aircore_width = 62*mm\n",
    "aircore_turns = 820\n",
    "\n",
    "# the current is the minimum between Ohm's law on 32 AWG wire and the max output of 50 mA\n",
    "current_aircore( l, w, N ) = mt_voltage / ( ( 2 * l + 2 * w ) * N * resistivity_32_AWG )\n",
    "\n",
    "# Basically, the dipole moment of the aircore is mu = NIA\n",
    "dipole_aircore( l, w, N ) = N * current_aircore(l, w, N) * (l * w)"
   ]
  },
  {
   "cell_type": "markdown",
   "metadata": {},
   "source": [
    "### Aircore current at standard parameters:"
   ]
  },
  {
   "cell_type": "code",
   "execution_count": 6,
   "metadata": {},
   "outputs": [
    {
     "data": {
      "text/html": [
       "<html><script type=\"math/tex; mode=display\">\\newcommand{\\Bold}[1]{\\mathbf{#1}}0.0387262907482388 \\, \\mathit{amp}</script></html>"
      ],
      "text/plain": [
       "0.0387262907482388*amp"
      ]
     },
     "execution_count": 6,
     "metadata": {},
     "output_type": "execute_result"
    }
   ],
   "source": [
    "current_aircore(\n",
    "    l=aircore_length,\n",
    "    w=aircore_width,\n",
    "    N=aircore_turns ).convert( A )"
   ]
  },
  {
   "cell_type": "markdown",
   "metadata": {},
   "source": [
    "### Aircore dipole at standard parameters:"
   ]
  },
  {
   "cell_type": "code",
   "execution_count": 7,
   "metadata": {},
   "outputs": [
    {
     "data": {
      "text/html": [
       "<html><script type=\"math/tex; mode=display\">\\newcommand{\\Bold}[1]{\\mathbf{#1}}0.108286454190225 \\, \\left(\\mathit{amp} \\mathit{meter}^{2}\\right)</script></html>"
      ],
      "text/plain": [
       "0.108286454190225*(amp*meter^2)"
      ]
     },
     "execution_count": 7,
     "metadata": {},
     "output_type": "execute_result"
    }
   ],
   "source": [
    "dipole_aircore(\n",
    "    l=aircore_length,\n",
    "    w=aircore_width,\n",
    "    N=aircore_turns ).convert( A * m^2 )"
   ]
  },
  {
   "cell_type": "code",
   "execution_count": null,
   "metadata": {
    "collapsed": true
   },
   "outputs": [],
   "source": []
  }
 ],
 "metadata": {
  "kernelspec": {
   "display_name": "SageMath 8.0",
   "language": "",
   "name": "sagemath"
  },
  "language_info": {
   "codemirror_mode": {
    "name": "ipython",
    "version": 2
   },
   "file_extension": ".py",
   "mimetype": "text/x-python",
   "name": "python",
   "nbconvert_exporter": "python",
   "pygments_lexer": "ipython2",
   "version": "2.7.13"
  }
 },
 "nbformat": 4,
 "nbformat_minor": 2
}
